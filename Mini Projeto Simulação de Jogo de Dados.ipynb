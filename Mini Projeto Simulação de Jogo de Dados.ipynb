{
 "cells": [
  {
   "cell_type": "markdown",
   "id": "d33ccf0c",
   "metadata": {},
   "source": [
    "# Mini-Projeto: Simulação de Jogo de Dados | Entrega (11/08 - Sexta-feira)\n",
    "\n",
    "## Objetivo\n",
    "\n",
    "Você tem a tarefa de criar uma simulação para um jogo de dados. Essa simulação tem como objetivo reunir estatísticas para analisar a justiça do jogo, possíveis resultados e fazer previsões sobre jogos futuros.\n",
    "\n",
    "## Desafios do Projeto\n",
    "\n",
    "1. **Simulação de Dados**: Crie uma função que simule o lançamento de dois dados de seis lados (valores de 1 a 6). Esta função deve retornar a soma dos resultados dos dados.\n",
    "\n",
    "2. **Múltiplas Simulações**: Use a função do passo 1 para simular um grande número de jogos de dados (digamos, 1000 jogos). Armazene o resultado de cada jogo em um array NumPy.\n",
    "\n",
    "3. **Análise de Dados**: Agora, vamos analisar os resultados desses jogos. Calcule e imprima o seguinte:\n",
    "- A média dos resultados.\n",
    "- O lançamento máximo e mínimo.\n",
    "- O número de vezes que cada possível lançamento (2, 3, 4, 5, 6, 7, 8, 9, 10, 11 e 12) ocorreu.\n",
    "- Teste de Hipótese: Agora vamos fazer um pouco de teste de hipóteses:\n",
    "  - Supondo um jogo justo (ou seja, todos os lançamentos são igualmente prováveis), o resultado da sua simulação coincide com essa suposição? Por que sim ou por que não?\n",
    "  - O que isso significa para um jogador do jogo de dados?\n",
    "\n",
    "## Entregáveis\n",
    "\n",
    "Link de um repositório no seu GitHub, contendo:\n",
    "- Um script Python (arquivo `.py` ou `.ipynb`) com a sua solução para os três desafios apresentados.\n"
   ]
  },
  {
   "cell_type": "markdown",
   "id": "ce821bc0",
   "metadata": {},
   "source": [
    "## Desafios do Projeto"
   ]
  },
  {
   "cell_type": "code",
   "execution_count": 2,
   "id": "90a7f206",
   "metadata": {
    "ExecuteTime": {
     "end_time": "2023-08-10T18:37:50.333583Z",
     "start_time": "2023-08-10T18:37:50.181651Z"
    }
   },
   "outputs": [],
   "source": [
    "import numpy as np"
   ]
  },
  {
   "cell_type": "code",
   "execution_count": 26,
   "id": "fd7103e1",
   "metadata": {
    "ExecuteTime": {
     "end_time": "2023-08-10T20:08:29.547569Z",
     "start_time": "2023-08-10T20:08:28.868262Z"
    }
   },
   "outputs": [
    {
     "name": "stdout",
     "output_type": "stream",
     "text": [
      "A média dos resultados é: 7.00\n",
      "Lançamento máximo: 12\n",
      "Lançamento mínimo: 2\n",
      "\n",
      "Número de vezes que cada lançamento ocorreu:\n",
      "2: 2716 vezes (2.72%)\n",
      "3: 5560 vezes (5.56%)\n",
      "4: 8340 vezes (8.34%)\n",
      "5: 11139 vezes (11.14%)\n",
      "6: 13840 vezes (13.84%)\n",
      "7: 16768 vezes (16.77%)\n",
      "8: 13898 vezes (13.90%)\n",
      "9: 11188 vezes (11.19%)\n",
      "10: 8252 vezes (8.25%)\n",
      "11: 5507 vezes (5.51%)\n",
      "12: 2792 vezes (2.79%)\n"
     ]
    }
   ],
   "source": [
    "# Múltiplas Simulações:\n",
    "## numero de jogos desejado\n",
    "numero_de_jogos = 100000\n",
    "\n",
    "# Função para simulação dos jogos de Dados:\n",
    "def jogo_dados():\n",
    "    # soma dos resultados dos dados jogados randomicamente.\n",
    "    return np.random.randint(1, 7) + np.random.randint(1, 7)\n",
    "\n",
    "# Função contagem do resultados dos jogos e porcentagem.\n",
    "def contar_ocorrencias(r_array, n_jogos):\n",
    "    # Identifica valores únicos e conta quantas vezes cada um ocorre.\n",
    "    valores_unicos, contagens = np.unique(r_array, return_counts=True)\n",
    "    # Loop que combina valores únicos e suas respectivas contagens\n",
    "    for valor, contagem in zip(valores_unicos, contagens):\n",
    "        # Calcula a porcentagem correspondente\n",
    "        porcentagem = (contagem / n_jogos) * 100\n",
    "        # Imprime valor, contagem e porcentagem\n",
    "        print(f\"{valor}: {contagem} {'vez' if contagem == 1 else 'vezes'} ({porcentagem:.2f}%)\")\n",
    "\n",
    "\n",
    " # List Comprehension dentro da função do numpy para formar o array de resultados. \n",
    "resultados_array = np.array([jogo_dados() for _ in range(numero_de_jogos)])\n",
    "\n",
    "# Análise dos Dados:\n",
    "print(f\"A média dos resultados é: {resultados_array.mean():.2f}\") # média\n",
    "print(f\"Lançamento máximo: {resultados_array.max()}\") # maior número\n",
    "print(f\"Lançamento mínimo: {resultados_array.min()}\\n\") # menor número\n",
    "\n",
    "# O número de vezes que cada possível lançamento (2, 3, 4, 5, 6, 7, 8, 9, 10, 11 e 12) ocorreu.\n",
    "print(\"Número de vezes que cada lançamento ocorreu:\")\n",
    "contar_ocorrencias(resultados_array, numero_de_jogos)"
   ]
  },
  {
   "cell_type": "markdown",
   "id": "5995ee8a",
   "metadata": {},
   "source": [
    "### O QUE SÃO JOGOS DE AZAR?\n",
    "\n",
    "<img src=\"https://flaviosteiglederimoveis.com.br/wp-content/uploads/2020/02/Screenshot_47.jpg\" width=150px>\n",
    "\n",
    "Jogos de azar são aqueles em que o resultado é determinado unicamente pela sorte dos participantes, sem que a habilidade individual tenha impacto nas chances de vitória. Em outras palavras, são jogos em que o fator predominante é o acaso, e não a perícia dos jogadores. Há muitos tipos de jogos de azar, porém, neste projeto, utilizaremos o Jogo de Dados, que é considerado um dos mais antigos que se tem registo.\n",
    "\n",
    "## INTRODUÇÃO\n",
    "\n",
    "\n",
    "<img src=\"https://flaviosteiglederimoveis.com.br/wp-content/uploads/2020/02/Screenshot_46.jpg\" width=150px>\n",
    "\n",
    "\n",
    "Em uma análise meticulosa do jogo de dois dados, revelam-se a relação entre a teoria e a realidade empírica. \n",
    "\n",
    "A jornada começa com a criação de um programa em Python que simula esse jogo aparentemente simples, porém fascinante. \n",
    "Essa simulação não apenas captura a teoria probabilística por trás do jogo, mas também permite que haja profundidade na análise estatística e na exploração destes resultados. Com isso,  descobrimos que, apesar da aparente complexidade há a possibilidade de destacarmos um padrão. Como podemos ver, os resultados confirmam as probabilidades teóricas, pois a média das somas dos dados converge para um valor previsível, por tanto, uma confirmação da estabilidade dos dados e da integridade da simulação.\n",
    "\n",
    "\n",
    "### Supondo um jogo justo (ou seja, todos os lançamentos são igualmente prováveis), o resultado da sua simulação coincide com essa suposição? Por que sim ou por que não?\n",
    "\n",
    "\n",
    "Ao examinar a distribuição das somas, encontramos um padrão próximo de uma distribuição uniforme, evidenciando ainda mais a equidade do jogo. A frequência de ocorrência de cada soma é uniformemente distribuída, tendo em vistas as combinações possíveis na soma dos dados, validando nossa premissa de justiça no lançamento dos dados. Exemplo:<br>\n",
    "Soma 2 ou 12: 1 combinação possível<br>\n",
    "Soma 3 ou 11: 2 combinações possíveis<br>\n",
    "Soma 4 ou 10: 3 combinações possíveis<br>\n",
    "Soma 5 ou 9: 4 combinações possíveis<br>\n",
    "Soma 6 ou 8: 5 combinações possíveis<br>\n",
    "Soma 7: 6 combinações possíveis<br><br>\n",
    "\n",
    "<img src=\"https://flaviosteiglederimoveis.com.br/wp-content/uploads/2020/02/Screenshot_48.jpg\" width=300px>\n",
    "\n",
    "Deste modo, podemos verificar com as informações obtidas em 'Número de vezes que cada lançamento ocorreu'\n",
    "que o sistema apresenta coerência entre os resultados e as chances de combinações. Porém, como podemos verificar através nos números apresentados, os lançamentos não são igualmente prováveis e há uma tendência para o número 7 devido a maior quantidade de combinações possíveis (6 combinações). \n",
    "\n",
    "\n",
    "\n",
    "### O que isso significa para um jogador do jogo de dados?\n",
    "\n",
    "Para um jogador do jogo de dados, isso tem significados muito importantes. \n",
    "\n",
    "Se a simulação confirmar coerência entre os dados apresentados no jogo, o jogador tenderá a ter mais confiança na equidade das chances e tomar decisões com base nas probabilidades teóricas. Por outro lado, se a simulação sugerir que o jogo não é justo, o jogador pode questionar a integridade do jogo.\n",
    "\n",
    "Por este motivo, a semelhança (ou a falta de) entre a simulação e o jogo, terá um impacto direto na confiança que os jogadores podem depositar no jogo de dados, influenciando suas estratégias e decisões enquanto jogam.\n",
    "\n",
    "\n",
    "\n",
    "### Referências:\n",
    "https://numpy.org/doc/stable/reference/generated/numpy.unique.html <br>\n",
    "https://www.delftstack.com/pt/howto/python/how-to-count-the-occurrences-of-an-item-in-a-one-dimensional-array-in-python/ <br>\n",
    "https://pet.leg.ufpr.br/blog/a-probabilidade-nos-jogos-de-azar-dados-e-moedas/ <br>"
   ]
  }
 ],
 "metadata": {
  "kernelspec": {
   "display_name": "Python 3 (ipykernel)",
   "language": "python",
   "name": "python3"
  },
  "language_info": {
   "codemirror_mode": {
    "name": "ipython",
    "version": 3
   },
   "file_extension": ".py",
   "mimetype": "text/x-python",
   "name": "python",
   "nbconvert_exporter": "python",
   "pygments_lexer": "ipython3",
   "version": "3.9.12"
  }
 },
 "nbformat": 4,
 "nbformat_minor": 5
}
